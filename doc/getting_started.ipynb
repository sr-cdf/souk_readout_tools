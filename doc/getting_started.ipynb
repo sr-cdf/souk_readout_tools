{
 "cells": [
  {
   "cell_type": "code",
   "execution_count": null,
   "metadata": {},
   "outputs": [],
   "source": []
  },
  {
   "cell_type": "markdown",
   "metadata": {},
   "source": [
    "# Getting Started with Project\n",
    "\n",
    "To get started with this project, follow the steps below:\n",
    "\n",
    "## 1. Installing the Code\n",
    "\n",
    "- Clone the project repository from GitHub: `git clone https://github.com/your-repo.git`\n",
    "- Install the required dependencies: `pip install -r requirements.txt`\n",
    "\n",
    "## 2. Setting up the Network\n",
    "\n",
    "- Connect your device to the network where the board is connected.\n",
    "\n",
    "## 3. Connecting to the Board\n",
    "\n",
    "- Open a terminal and navigate to the project directory.\n",
    "- Run the following command to connect to the board: `python connect.py`\n",
    "\n",
    "## 4. Requesting Information\n",
    "\n",
    "- Use the following code snippet to request information from the board:\n",
    "\n",
    "## 5. Setting Tones: \n",
    "\n",
    "- If your project involves generating sound or tones, you can set the desired tones on the board. This can be done using specific commands or APIs provided by the board's library.\n",
    "\n",
    "## 6. Getting Data: \n",
    "\n",
    "- Retrieve the data you need from the board. This could be sensor data, input/output readings, or any other relevant information. Use the appropriate commands or APIs to fetch the data from the board.\n",
    "\n",
    "## 7. Plotting Data: \n",
    "\n",
    "- If you want to visualize the data, you can use plotting libraries such as Matplotlib or Plotly. Pass the data you obtained from the board to these libraries and create visualizations like line charts, bar graphs, or scatter plots.\n",
    "\n",
    "## 8. Streaming Data: \n",
    "\n",
    "- If you need to continuously stream data from the board, set up a loop or a streaming mechanism to receive and process the data in real-time. This can be useful for applications like data logging or real-time monitoring.\n",
    "\n",
    "Remember to refer to the documentation and examples provided by the board manufacturer or library to understand the specific commands, APIs, and protocols required for your project."
   ]
  },
  {
   "cell_type": "code",
   "execution_count": 1,
   "metadata": {},
   "outputs": [
    {
     "name": "stdout",
     "output_type": "stream",
     "text": [
      "/home/sam/souk/readout_software/doc\n"
     ]
    },
    {
     "ename": "ModuleNotFoundError",
     "evalue": "No module named 'readout_client'",
     "output_type": "error",
     "traceback": [
      "\u001b[0;31m---------------------------------------------------------------------------\u001b[0m",
      "\u001b[0;31mModuleNotFoundError\u001b[0m                       Traceback (most recent call last)",
      "Cell \u001b[0;32mIn[1], line 4\u001b[0m\n\u001b[1;32m      2\u001b[0m os\u001b[38;5;241m.\u001b[39msystem(\u001b[38;5;124m'\u001b[39m\u001b[38;5;124mcd ..\u001b[39m\u001b[38;5;124m'\u001b[39m)\n\u001b[1;32m      3\u001b[0m \u001b[38;5;28mprint\u001b[39m(os\u001b[38;5;241m.\u001b[39mgetcwd())\n\u001b[0;32m----> 4\u001b[0m \u001b[38;5;28;01mimport\u001b[39;00m \u001b[38;5;21;01mreadout_client\u001b[39;00m\n\u001b[1;32m      5\u001b[0m client \u001b[38;5;241m=\u001b[39m readout_client\u001b[38;5;241m.\u001b[39mReadoutClient()\n\u001b[1;32m      7\u001b[0m \u001b[38;5;28mprint\u001b[39m( client\u001b[38;5;241m.\u001b[39mget_server_status() )\n",
      "\u001b[0;31mModuleNotFoundError\u001b[0m: No module named 'readout_client'"
     ]
    }
   ],
   "source": [
    "import os\n",
    "os.chdir('..')\n",
    "print(os.getcwd())\n",
    "import readout_client\n",
    "client = readout_client.ReadoutClient()\n",
    "\n",
    "print( client.get_server_status() )\n"
   ]
  }
 ],
 "metadata": {
  "kernelspec": {
   "display_name": "venv-remote-control",
   "language": "python",
   "name": "python3"
  },
  "language_info": {
   "codemirror_mode": {
    "name": "ipython",
    "version": 3
   },
   "file_extension": ".py",
   "mimetype": "text/x-python",
   "name": "python",
   "nbconvert_exporter": "python",
   "pygments_lexer": "ipython3",
   "version": "3.10.11"
  }
 },
 "nbformat": 4,
 "nbformat_minor": 2
}
